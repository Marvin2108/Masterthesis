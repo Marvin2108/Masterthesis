{
 "cells": [
  {
   "cell_type": "code",
   "execution_count": 2,
   "id": "36207ccb-0261-4c02-9b1c-6914a9423a82",
   "metadata": {},
   "outputs": [],
   "source": [
    "# %run 01_LLMs_konfigurieren.ipynb"
   ]
  },
  {
   "cell_type": "code",
   "execution_count": 1,
   "id": "f499cd0c-d16e-4e83-9e30-7346038390c7",
   "metadata": {},
   "outputs": [],
   "source": [
    "from datasets import load_dataset\n",
    "import pandas as pd\n"
   ]
  },
  {
   "cell_type": "markdown",
   "id": "ac1b355c-7a37-46b1-893a-ece4fc0432d6",
   "metadata": {},
   "source": [
    "# Sentiment Classification"
   ]
  },
  {
   "cell_type": "markdown",
   "id": "9d358331-7a7a-4ec4-9d1d-e1802dff7917",
   "metadata": {},
   "source": [
    "## SST2 -> sst2_combined"
   ]
  },
  {
   "cell_type": "code",
   "execution_count": 2,
   "id": "7b395cbe-ea29-4a2d-9121-1da2fc45db65",
   "metadata": {},
   "outputs": [],
   "source": [
    "sst2 = load_dataset(\"stanfordnlp/sst2\")\n",
    "\n",
    "# Konvertierung der Trainingsdaten in ein Pandas DataFrame\n",
    "train_df = pd.DataFrame(sst2['train'])\n",
    "\n",
    "# Konvertierung der Validierungsdaten in ein Pandas DataFrame\n",
    "validation_df = pd.DataFrame(sst2['validation'])\n",
    "\n",
    "# Konvertierung der Testdaten in ein Pandas DataFrame\n",
    "test_df = pd.DataFrame(sst2['test'])\n",
    "\n",
    "# Daten Mischen \n",
    "# df_gemischt = df.sample(frac=1).reset_index(drop=True)\n",
    "\n",
    "sst2_combined_ver = pd.concat([train_df, validation_df, test_df], ignore_index=True)\n",
    "\n",
    "sst2_combined = sst2_combined_ver[['sentence','label']].reset_index()\n",
    "\n",
    "#sst2_combined.rename(columns={'idx': 'index'}, inplace=True)\n",
    "\n"
   ]
  },
  {
   "cell_type": "code",
   "execution_count": 3,
   "id": "6826e158-4e74-40b4-821b-85fa46a6ba5b",
   "metadata": {},
   "outputs": [],
   "source": [
    "# sst2_combined.head()"
   ]
  },
  {
   "cell_type": "code",
   "execution_count": null,
   "id": "8e1f90f9-6678-4e4f-b6af-c8c4f15e1276",
   "metadata": {},
   "outputs": [],
   "source": []
  },
  {
   "cell_type": "markdown",
   "id": "b6e763c6-4762-48a6-9a7b-d830e8977d00",
   "metadata": {},
   "source": [
    "## SB10k -> sb10k_combined"
   ]
  },
  {
   "cell_type": "code",
   "execution_count": 4,
   "id": "bad0cd5e-9236-4393-a769-446f5f185166",
   "metadata": {},
   "outputs": [],
   "source": [
    "sb10k = load_dataset(\"Alienmaster/SB10k\")\n",
    "\n",
    "# Konvertierung der Trainingsdaten in ein Pandas DataFrame\n",
    "train_df = pd.DataFrame(sb10k['train'])\n",
    "\n",
    "# Konvertierung der Validierungsdaten in ein Pandas DataFrame\n",
    "validation_df = pd.DataFrame(sb10k['dev'])\n",
    "\n",
    "# Konvertierung der Testdaten in ein Pandas DataFrame\n",
    "test_df = pd.DataFrame(sb10k['test'])\n",
    "\n",
    "sb10k_verarb = pd.concat([train_df, validation_df, test_df], ignore_index=True)\n",
    "# Sentiment-Codierung\n",
    "sentiment_mapping = {'neutral': 2, 'positive': 1, 'negative': 0}\n",
    "sb10k_verarb['sentiment_coded'] = sb10k_verarb['Sentiment'].map(sentiment_mapping)\n",
    "\n",
    "sb10k_combined = sb10k_verarb[['Text','Sentiment','sentiment_coded']].reset_index()"
   ]
  },
  {
   "cell_type": "code",
   "execution_count": 5,
   "id": "86317a5a-e31f-43bc-bcda-62ffaad517b5",
   "metadata": {},
   "outputs": [],
   "source": [
    "#sb10k_combined.head(10)"
   ]
  },
  {
   "cell_type": "code",
   "execution_count": null,
   "id": "be0020fb-4394-4220-be9f-bf0567930b23",
   "metadata": {},
   "outputs": [],
   "source": []
  },
  {
   "cell_type": "markdown",
   "id": "5630bbd2-803d-42b7-84f5-9f9fd8a5e9c7",
   "metadata": {},
   "source": [
    "# ABSA"
   ]
  },
  {
   "cell_type": "markdown",
   "id": "1eb503ac-b270-4c47-9617-69c92e6f9f7b",
   "metadata": {},
   "source": [
    "## SemEval-2014 Task4"
   ]
  },
  {
   "cell_type": "code",
   "execution_count": 6,
   "id": "e371b744-3b8b-477c-9810-d4336d99cea2",
   "metadata": {},
   "outputs": [],
   "source": [
    "absa = pd.read_csv('/Users/marvinschmitt/Library/CloudStorage/OneDrive-Persönlich/M.Sc. Data Science/17 Masterarbeit/Datasets/2 ABSA/SemEval2014_ABSA/Laptop_Train_v2.csv')\n",
    "\n",
    "# conflict löschen \n",
    "absa = absa[absa['polarity'] != 'conflict']\n",
    "\n",
    "# Sentiment-Codierung\n",
    "sentiment_mapping = {'neutral': int(2), 'positive': int(1), 'negative': int(0)}\n",
    "absa['sentiment_coded'] = absa['polarity'].map(sentiment_mapping)\n",
    "\n",
    "absa.rename(columns={'Aspect Term': 'aspect', 'Sentence':'sentence'}, inplace=True)\n",
    "\n",
    "absa1 = absa[['sentence','aspect','sentiment_coded','polarity']].reset_index(drop=True)\n",
    "\n",
    "absa_final = absa1.reset_index()\n",
    "\n"
   ]
  },
  {
   "cell_type": "code",
   "execution_count": 34,
   "id": "92361442-3770-4228-8326-6748f5ff3a2e",
   "metadata": {},
   "outputs": [
    {
     "data": {
      "text/html": [
       "<div>\n",
       "<style scoped>\n",
       "    .dataframe tbody tr th:only-of-type {\n",
       "        vertical-align: middle;\n",
       "    }\n",
       "\n",
       "    .dataframe tbody tr th {\n",
       "        vertical-align: top;\n",
       "    }\n",
       "\n",
       "    .dataframe thead th {\n",
       "        text-align: right;\n",
       "    }\n",
       "</style>\n",
       "<table border=\"1\" class=\"dataframe\">\n",
       "  <thead>\n",
       "    <tr style=\"text-align: right;\">\n",
       "      <th></th>\n",
       "      <th>index</th>\n",
       "      <th>sentence</th>\n",
       "      <th>aspect</th>\n",
       "      <th>sentiment_coded</th>\n",
       "      <th>polarity</th>\n",
       "    </tr>\n",
       "  </thead>\n",
       "  <tbody>\n",
       "    <tr>\n",
       "      <th>0</th>\n",
       "      <td>0</td>\n",
       "      <td>I charge it at night and skip taking the cord ...</td>\n",
       "      <td>cord</td>\n",
       "      <td>2</td>\n",
       "      <td>neutral</td>\n",
       "    </tr>\n",
       "    <tr>\n",
       "      <th>1</th>\n",
       "      <td>1</td>\n",
       "      <td>I charge it at night and skip taking the cord ...</td>\n",
       "      <td>battery life</td>\n",
       "      <td>1</td>\n",
       "      <td>positive</td>\n",
       "    </tr>\n",
       "    <tr>\n",
       "      <th>2</th>\n",
       "      <td>2</td>\n",
       "      <td>The tech guy then said the service center does...</td>\n",
       "      <td>service center</td>\n",
       "      <td>0</td>\n",
       "      <td>negative</td>\n",
       "    </tr>\n",
       "    <tr>\n",
       "      <th>3</th>\n",
       "      <td>3</td>\n",
       "      <td>The tech guy then said the service center does...</td>\n",
       "      <td>\"sales\" team</td>\n",
       "      <td>0</td>\n",
       "      <td>negative</td>\n",
       "    </tr>\n",
       "    <tr>\n",
       "      <th>4</th>\n",
       "      <td>4</td>\n",
       "      <td>The tech guy then said the service center does...</td>\n",
       "      <td>tech guy</td>\n",
       "      <td>2</td>\n",
       "      <td>neutral</td>\n",
       "    </tr>\n",
       "    <tr>\n",
       "      <th>5</th>\n",
       "      <td>5</td>\n",
       "      <td>it is of high quality, has a killer GUI, is ex...</td>\n",
       "      <td>quality</td>\n",
       "      <td>1</td>\n",
       "      <td>positive</td>\n",
       "    </tr>\n",
       "    <tr>\n",
       "      <th>6</th>\n",
       "      <td>6</td>\n",
       "      <td>it is of high quality, has a killer GUI, is ex...</td>\n",
       "      <td>GUI</td>\n",
       "      <td>1</td>\n",
       "      <td>positive</td>\n",
       "    </tr>\n",
       "    <tr>\n",
       "      <th>7</th>\n",
       "      <td>7</td>\n",
       "      <td>it is of high quality, has a killer GUI, is ex...</td>\n",
       "      <td>applications</td>\n",
       "      <td>1</td>\n",
       "      <td>positive</td>\n",
       "    </tr>\n",
       "    <tr>\n",
       "      <th>8</th>\n",
       "      <td>8</td>\n",
       "      <td>it is of high quality, has a killer GUI, is ex...</td>\n",
       "      <td>use</td>\n",
       "      <td>1</td>\n",
       "      <td>positive</td>\n",
       "    </tr>\n",
       "    <tr>\n",
       "      <th>9</th>\n",
       "      <td>9</td>\n",
       "      <td>Easy to start up and does not overheat as much...</td>\n",
       "      <td>start up</td>\n",
       "      <td>1</td>\n",
       "      <td>positive</td>\n",
       "    </tr>\n",
       "  </tbody>\n",
       "</table>\n",
       "</div>"
      ],
      "text/plain": [
       "   index                                           sentence          aspect  \\\n",
       "0      0  I charge it at night and skip taking the cord ...            cord   \n",
       "1      1  I charge it at night and skip taking the cord ...    battery life   \n",
       "2      2  The tech guy then said the service center does...  service center   \n",
       "3      3  The tech guy then said the service center does...    \"sales\" team   \n",
       "4      4  The tech guy then said the service center does...        tech guy   \n",
       "5      5  it is of high quality, has a killer GUI, is ex...         quality   \n",
       "6      6  it is of high quality, has a killer GUI, is ex...             GUI   \n",
       "7      7  it is of high quality, has a killer GUI, is ex...    applications   \n",
       "8      8  it is of high quality, has a killer GUI, is ex...             use   \n",
       "9      9  Easy to start up and does not overheat as much...        start up   \n",
       "\n",
       "   sentiment_coded  polarity  \n",
       "0                2   neutral  \n",
       "1                1  positive  \n",
       "2                0  negative  \n",
       "3                0  negative  \n",
       "4                2   neutral  \n",
       "5                1  positive  \n",
       "6                1  positive  \n",
       "7                1  positive  \n",
       "8                1  positive  \n",
       "9                1  positive  "
      ]
     },
     "execution_count": 34,
     "metadata": {},
     "output_type": "execute_result"
    }
   ],
   "source": [
    "# absa_final.head(10)"
   ]
  },
  {
   "cell_type": "markdown",
   "id": "193b4f52-64d1-41eb-bdf3-abceca4358b2",
   "metadata": {},
   "source": [
    "## MAST (Irony)"
   ]
  },
  {
   "cell_type": "code",
   "execution_count": 17,
   "id": "69b95cd9-2bec-4fae-a470-a4a5e26c159f",
   "metadata": {},
   "outputs": [],
   "source": [
    "irony = pd.read_csv('/Users/marvinschmitt/Library/CloudStorage/OneDrive-Persönlich/M.Sc. Data Science/17 Masterarbeit/Datasets/3 Irony/irony_vHee/SemEval2018-T3-train-taskA.txt',sep='\\t',on_bad_lines='skip')\n",
    "irony = irony[['Label','text']]\n",
    "\n",
    "irony_final = irony.reset_index()"
   ]
  },
  {
   "cell_type": "code",
   "execution_count": 19,
   "id": "c31f7ce0-df14-4f0f-8ec2-dc4b19b78866",
   "metadata": {},
   "outputs": [],
   "source": [
    "# irony_final"
   ]
  },
  {
   "cell_type": "code",
   "execution_count": null,
   "id": "907d86d2-4503-40f8-802f-f37ddd46bc88",
   "metadata": {},
   "outputs": [],
   "source": []
  }
 ],
 "metadata": {
  "kernelspec": {
   "display_name": "Python 3 (ipykernel)",
   "language": "python",
   "name": "python3"
  },
  "language_info": {
   "codemirror_mode": {
    "name": "ipython",
    "version": 3
   },
   "file_extension": ".py",
   "mimetype": "text/x-python",
   "name": "python",
   "nbconvert_exporter": "python",
   "pygments_lexer": "ipython3",
   "version": "3.12.4"
  }
 },
 "nbformat": 4,
 "nbformat_minor": 5
}
